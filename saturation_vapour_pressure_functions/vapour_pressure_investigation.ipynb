{
 "cells": [
  {
   "cell_type": "markdown",
   "id": "b7a739bf-8fd8-4252-a5dc-628dd5b5e6fa",
   "metadata": {},
   "source": [
    "# <center> Saturation vapour pressure functions"
   ]
  },
  {
   "cell_type": "markdown",
   "id": "6207f1ea-6825-4d1b-ba18-64843381b515",
   "metadata": {},
   "source": [
    "**Goal of the notebook:**\n",
    "Investigate the different saturation vapour pressure functions available in Air Sea Flux code for the COARE 3.5 parameterization\n",
    "\n",
    "\n",
    "\n",
    "**Motivation:**\n",
    "The choice of the function has a significant effect for the latent heat flux and q10n for the S88 paramaterization (see table S15): is it the same for COARE 3.5?\n"
   ]
  },
  {
   "cell_type": "markdown",
   "id": "9248e8e2-a227-4622-a69e-2a7af88da3d0",
   "metadata": {
    "tags": []
   },
   "source": [
    "***What is the saturation vapour pressure function?***\n",
    "\n",
    "The saturation vapour pressure function $e_s$ is used to compute the humidity when the humidity input is given by a relative humidy percentage or a dewpoint temperature.\n",
    "\n",
    "See equation S11 in the supplementary material.\n",
    "\n",
    "***What is the default method?***\n",
    "\n",
    "Buck method (2012)\n",
    "\n",
    "***What are the different methods available?***\n",
    "\n",
    "There are 13 formulations for $e_s$ in AirSeaFluxCode.\n",
    "\n",
    "***What is reported in Biri et al. 2023 regarding the quantification of the effect of $e_s$ used?***\n",
    "\n",
    "In Biri et al. (2023), they investigate: \n",
    "- the impact of another $e_s$ formulation (WMO (2018) in comparison to the default one (Buck (2012)) formulation - for the 10 different parameterisations (C35, S80, ...)\n",
    "- the impact of the 12 alternative formulations in comparison to the default one (Buck (2012)) for the S88 formulation\n",
    "\n"
   ]
  },
  {
   "cell_type": "markdown",
   "id": "6f4096dc-bdd9-4b60-8376-b3b4807c1432",
   "metadata": {
    "tags": []
   },
   "source": [
    "# 1. Load the packages, AirSeaFluxCode and data "
   ]
  },
  {
   "cell_type": "code",
   "execution_count": 1,
   "id": "68001fa7-0b8a-4cc1-871d-e70e1d9135f8",
   "metadata": {
    "tags": []
   },
   "outputs": [],
   "source": [
    "import sys\n",
    "import pandas as pd\n",
    "import numpy as np"
   ]
  },
  {
   "cell_type": "code",
   "execution_count": 2,
   "id": "1698a876-f2bb-49d2-9256-27f7341837d1",
   "metadata": {
    "tags": []
   },
   "outputs": [],
   "source": [
    "# path to AirSeaFluxCode algorithm\n",
    "sys.path.append('../../ms_thesis/AirSeaFluxCode/AirSeaFluxCode-master/AirSeaFluxCode/src/')"
   ]
  },
  {
   "cell_type": "code",
   "execution_count": 3,
   "id": "710b489d-aa1d-42e2-a9d3-cd1eda08c5c3",
   "metadata": {
    "tags": []
   },
   "outputs": [],
   "source": [
    "from AirSeaFluxCode import AirSeaFluxCode"
   ]
  },
  {
   "cell_type": "code",
   "execution_count": 4,
   "id": "c7241a67-00e1-4fd2-8f0a-63d685c37cce",
   "metadata": {
    "tags": []
   },
   "outputs": [],
   "source": [
    "# dataset from TARSAN 2022 cruise - ship data\n",
    "\n",
    "ds_tarsan_2022 = pd.read_csv('../Data/TARSAN_2022/jgofs_30minmean_2022.csv')\n"
   ]
  },
  {
   "cell_type": "markdown",
   "id": "71fb8bcd-3b65-40f0-9577-b31ec7db9353",
   "metadata": {},
   "source": [
    "# 2. Compute the latent heat flux and humidity for the C35 parameterisation with different qmet "
   ]
  },
  {
   "cell_type": "markdown",
   "id": "c587364b-4c37-459e-bca5-7c6b57384f5e",
   "metadata": {},
   "source": [
    "Information about qmeth parameter:\n",
    ">  qmeth : str\n",
    "> >     is the saturation evaporation method to use amongst\n",
    "            \"HylandWexler\",\"Hardy\",\"Preining\",\"Wexler\",\"GoffGratch\",\"WMO\",\n",
    "            \"MagnusTetens\",\"Buck\",\"Buck2\",\"WMO2018\",\"Sonntag\",\"Bolton\",\n",
    "            \"IAPWS\",\"MurphyKoop\"]\n",
    "             default is Buck2\n"
   ]
  },
  {
   "cell_type": "code",
   "execution_count": 5,
   "id": "37dc1473-c03e-40cc-b593-146c6f23cc85",
   "metadata": {
    "tags": []
   },
   "outputs": [],
   "source": [
    "hu = np.asarray(34.3408)\n",
    "ht = np.asarray(19.2024)\n",
    "hin = np.array([hu, ht, ht])"
   ]
  },
  {
   "cell_type": "code",
   "execution_count": 6,
   "id": "d48f20b8-2da8-4502-a737-feae2aafc3ba",
   "metadata": {
    "tags": []
   },
   "outputs": [],
   "source": [
    "qmeth_array = [\"HylandWexler\",\"Hardy\",\"Preining\",\"Wexler\",\"GoffGratch\",\"WMO\",\n",
    "            \"MagnusTetens\",\"Buck\",\"Buck2\",\"WMO2018\",\"Sonntag\",\"Bolton\",\n",
    "            \"IAPWS\",\"MurphyKoop\"]\n",
    "             "
   ]
  },
  {
   "cell_type": "code",
   "execution_count": 7,
   "id": "6816094e-73f8-40ad-91b9-a6529a78769a",
   "metadata": {
    "tags": []
   },
   "outputs": [],
   "source": [
    "# Loop to compute AirSeaFluxCode output for each qmeth\n",
    "d = {qmeth: pd.DataFrame(AirSeaFluxCode(spd=np.asarray(ds_tarsan_2022['WindSpeed']),\n",
    "               T=np.asarray(ds_tarsan_2022['AirTemp']),\n",
    "               SST=np.asarray(ds_tarsan_2022['SST']),\n",
    "               SST_fl='bulk',\n",
    "               meth='C35',\n",
    "               lat=np.asarray(ds_tarsan_2022['Lat']),\n",
    "               hum=[\"rh\",np.asarray(ds_tarsan_2022['RH'])],\n",
    "               hin=hin,\n",
    "               hout=10,\n",
    "               Rl=np.asarray(ds_tarsan_2022['PIR']),\n",
    "               Rs=np.asarray(ds_tarsan_2022['PSP']),\n",
    "               cskin=1,\n",
    "               skin=\"C35\",\n",
    "               wl=1,\n",
    "               gust=[1,1.2,600,0.01], # x=1 follows Fairall et al. 2003 - ref paper for C35, beta,zi and ustb are the default parameters in ASFcode\n",
    "               qmeth=qmeth,\n",
    "               tol=['all', 0.01, 0.01, 1e-05, 1e-3, 0.1, 0.1], #default\n",
    "               maxiter=10, #default\n",
    "               out=0, #default\n",
    "               L=\"tsrv\", #default\n",
    "               out_var=['q10n','qsea','qair','latent']\n",
    "              )) \n",
    "     for qmeth in qmeth_array}"
   ]
  },
  {
   "cell_type": "markdown",
   "id": "8372b5a2-a1e6-4334-84a1-d06f9d3d22c5",
   "metadata": {},
   "source": [
    "# 3. Check the flag"
   ]
  },
  {
   "cell_type": "code",
   "execution_count": 19,
   "id": "dea41a1c-ed8d-4b75-b119-e6a89a40ced2",
   "metadata": {
    "tags": []
   },
   "outputs": [
    {
     "name": "stdout",
     "output_type": "stream",
     "text": [
      "(1, 65)\n",
      "(1, 65)\n",
      "(1, 65)\n",
      "(1, 65)\n",
      "(1, 65)\n",
      "(1, 65)\n",
      "(1, 65)\n",
      "(1, 64)\n",
      "(1, 64)\n",
      "(1, 64)\n",
      "(1, 65)\n",
      "(1, 65)\n",
      "(1, 65)\n",
      "(1, 65)\n"
     ]
    }
   ],
   "source": [
    "for qmeth, df in d.items():\n",
    "    print(np.shape(np.where(df['flag']!='n')))"
   ]
  },
  {
   "cell_type": "code",
   "execution_count": null,
   "id": "8ba71175-42ef-4eec-97c6-6099590e8de2",
   "metadata": {},
   "outputs": [],
   "source": []
  }
 ],
 "metadata": {
  "kernelspec": {
   "display_name": "Python 3 (ipykernel)",
   "language": "python",
   "name": "python3"
  },
  "language_info": {
   "codemirror_mode": {
    "name": "ipython",
    "version": 3
   },
   "file_extension": ".py",
   "mimetype": "text/x-python",
   "name": "python",
   "nbconvert_exporter": "python",
   "pygments_lexer": "ipython3",
   "version": "3.9.7"
  }
 },
 "nbformat": 4,
 "nbformat_minor": 5
}
