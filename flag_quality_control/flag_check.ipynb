{
 "cells": [
  {
   "cell_type": "markdown",
   "id": "d7ab9504-9864-4c15-a3de-16c467f0d4d5",
   "metadata": {
    "tags": []
   },
   "source": [
    "#  <center> Flag quality control"
   ]
  },
  {
   "cell_type": "markdown",
   "id": "a8f8787e-bbe7-43c0-8ba1-75a82f2ff9ca",
   "metadata": {},
   "source": [
    "**Aim of this notebook:**\n",
    "    \n",
    "**Motivation:**"
   ]
  },
  {
   "cell_type": "code",
   "execution_count": null,
   "id": "5236607a-9dcb-413b-9631-d4b7023ff566",
   "metadata": {},
   "outputs": [],
   "source": []
  }
 ],
 "metadata": {
  "kernelspec": {
   "display_name": "Python 3 (ipykernel)",
   "language": "python",
   "name": "python3"
  },
  "language_info": {
   "codemirror_mode": {
    "name": "ipython",
    "version": 3
   },
   "file_extension": ".py",
   "mimetype": "text/x-python",
   "name": "python",
   "nbconvert_exporter": "python",
   "pygments_lexer": "ipython3",
   "version": "3.9.7"
  }
 },
 "nbformat": 4,
 "nbformat_minor": 5
}
