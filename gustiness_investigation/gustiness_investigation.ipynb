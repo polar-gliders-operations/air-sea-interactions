{
 "cells": [
  {
   "cell_type": "code",
   "execution_count": 1,
   "id": "6f1496f1-47da-4ae3-b5ae-f58b1840aefc",
   "metadata": {
    "tags": []
   },
   "outputs": [],
   "source": [
    "# this is a first test to check I can push/pull stuff"
   ]
  },
  {
   "cell_type": "code",
   "execution_count": null,
   "id": "73c5d4ca-6225-41a0-928f-c9e14b03efdd",
   "metadata": {},
   "outputs": [],
   "source": []
  }
 ],
 "metadata": {
  "kernelspec": {
   "display_name": "Python 3 (ipykernel)",
   "language": "python",
   "name": "python3"
  },
  "language_info": {
   "codemirror_mode": {
    "name": "ipython",
    "version": 3
   },
   "file_extension": ".py",
   "mimetype": "text/x-python",
   "name": "python",
   "nbconvert_exporter": "python",
   "pygments_lexer": "ipython3",
   "version": "3.9.7"
  }
 },
 "nbformat": 4,
 "nbformat_minor": 5
}
